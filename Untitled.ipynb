{
 "cells": [
  {
   "cell_type": "code",
   "execution_count": 37,
   "id": "9cdbbc4a",
   "metadata": {},
   "outputs": [],
   "source": [
    "import pandas as pd\n",
    "import numpy as np\n",
    "import PyPDF2\n",
    "import textract\n",
    "import pdfplumber\n",
    "import base64\n",
    "import re\n",
    "import io\n",
    "from collections import Counter\n"
   ]
  },
  {
   "cell_type": "code",
   "execution_count": 38,
   "id": "9c67a4a3",
   "metadata": {},
   "outputs": [
    {
     "data": {
      "text/plain": [
       "'\\n#Basic Code Snippet that is used to extract structure of the pdf\\n#From this we identify keywords with / key before them using the regex.\\n#Uncomment and run this to see the raw pdf data\\n\\nimport base64\\nimport re\\nimport io\\n\\nfilename = \\'MaliciousPDF.pdf\\'\\nfilenameV2 = \\'MaliciousPDF.txt\\'\\nencoding = \\'utf-8\\'\\nregex = \\'\\\\/[^\\\\s\\n\\r]+\\\\s\\'\\n\\nwith open(filename, mode=\"r\",encoding=\\'utf-8\\',errors=\\'ignore\\') as pdf_file:\\n    encoded_string = pdf_file.readlines()\\n    print(encoded_string)\\n    \\n    with io.open(filenameV2, \"w\", encoding=\"utf-8\") as f:\\n        f.writelines(encoded_string)\\n\\n'"
      ]
     },
     "execution_count": 38,
     "metadata": {},
     "output_type": "execute_result"
    }
   ],
   "source": [
    "'''\n",
    "#Basic Code Snippet that is used to extract structure of the pdf\n",
    "#From this we identify keywords with / key before them using the regex.\n",
    "#Uncomment and run this to see the raw pdf data\n",
    "\n",
    "import base64\n",
    "import re\n",
    "import io\n",
    "\n",
    "filename = 'MaliciousPDF.pdf'\n",
    "filenameV2 = 'MaliciousPDF.txt'\n",
    "encoding = 'utf-8'\n",
    "regex = '\\/[^\\s\\n\\r]+\\s'\n",
    "\n",
    "with open(filename, mode=\"r\",encoding='utf-8',errors='ignore') as pdf_file:\n",
    "    encoded_string = pdf_file.readlines()\n",
    "    print(encoded_string)\n",
    "    \n",
    "    with io.open(filenameV2, \"w\", encoding=\"utf-8\") as f:\n",
    "        f.writelines(encoded_string)\n",
    "\n",
    "'''"
   ]
  },
  {
   "cell_type": "code",
   "execution_count": 52,
   "id": "83fc962c",
   "metadata": {},
   "outputs": [
    {
     "name": "stdout",
     "output_type": "stream",
     "text": [
      "1697\n",
      "            0    1        tf       idf    tf_idf\n",
      "129       /zd    1  0.000085  0.000000  0.000000\n",
      "195        /h    1  0.000085  0.000000  0.000000\n",
      "165      /Wzp    1  0.000085  0.000000  0.000000\n",
      "166     /lBbC    1  0.000085  0.000000  0.000000\n",
      "167       /Sr    1  0.000085  0.000000  0.000000\n",
      "..        ...  ...       ...       ...       ...\n",
      "5     /Length   49  0.004179 -3.891820 -0.016264\n",
      "17   /XObject   51  0.004350 -3.931826 -0.017102\n",
      "10      /Type   89  0.007591 -4.488636 -0.034072\n",
      "4      endobj  161  0.013731 -5.081404 -0.069775\n",
      "0         obj  161  0.013731 -5.081404 -0.069775\n",
      "\n",
      "[258 rows x 5 columns]\n"
     ]
    }
   ],
   "source": [
    "#Here we use regex to find all possible keywords and \n",
    "#then return the ones without any special character or digit\n",
    "\n",
    "regex = '(endobj|obj|endstream|stream|startxref|xref|trailer|\\/[^\\s\\n\\r]+)'\n",
    "\n",
    "def FilteringFunction(match):\n",
    "    return match[1:].isalnum()\n",
    "\n",
    "def FilteringFunctionOnlyAlphabets(match):\n",
    "    return match[1:].isalpha()\n",
    "\n",
    "def GetKeywords(fileNamePDF) :\n",
    "    with open(filename, mode=\"r\",encoding='utf-8',errors='ignore') as pdf_file:\n",
    "        encoded_string = pdf_file.read()\n",
    "        matches = re.findall(regex, encoded_string) \n",
    "        filteredMatches = list(filter(FilteringFunctionOnlyAlphabets, matches))\n",
    "        \n",
    "        #print(filtedMatches)\n",
    "        #print(len(filteredMatches))\n",
    "        \n",
    "        return filteredMatches\n",
    "\n",
    "def weightage(number_of_times_word_appeared, textLength, number_of_documents=1):\n",
    "    \n",
    "    tf = number_of_times_word_appeared/float(textLength)\n",
    "    idf = np.log((number_of_documents)/float(number_of_times_word_appeared))\n",
    "    tf_idf = tf*idf\n",
    "    return tf,idf ,tf_idf\n",
    "\n",
    "def GetKeywordVector(matches, textLength):\n",
    "    matchesCount = Counter(matches)\n",
    "    data_items = matchesCount.items()\n",
    "    data_list = list(data_items)\n",
    "    df = pd.DataFrame(data_list)\n",
    "    \n",
    "    df['tf'] = df[1].apply(lambda x: weightage(x,textLength)[0])\n",
    "    df['idf'] = df[1].apply(lambda x: weightage(x,textLength)[1])\n",
    "    df['tf_idf'] = df[1].apply(lambda x: weightage(x,textLength)[2])\n",
    "    df = df.sort_values('tf_idf',ascending=False)\n",
    "    \n",
    "    print(df)\n",
    "    \n",
    "fileName = 'MaliciousPDF.pdf'\n",
    "fileNameTxt = 'MaliciousPDF.txt'\n",
    "\n",
    "matches = GetKeywords(fileName)\n",
    "GetKeywordVector(matches, len(encoded_string))"
   ]
  },
  {
   "cell_type": "code",
   "execution_count": null,
   "id": "5bbd3f19",
   "metadata": {},
   "outputs": [],
   "source": [
    "\n",
    "\n"
   ]
  }
 ],
 "metadata": {
  "kernelspec": {
   "display_name": "Python 3",
   "language": "python",
   "name": "python3"
  },
  "language_info": {
   "codemirror_mode": {
    "name": "ipython",
    "version": 3
   },
   "file_extension": ".py",
   "mimetype": "text/x-python",
   "name": "python",
   "nbconvert_exporter": "python",
   "pygments_lexer": "ipython3",
   "version": "3.9.4"
  }
 },
 "nbformat": 4,
 "nbformat_minor": 5
}
